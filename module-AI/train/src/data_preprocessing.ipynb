{
 "cells": [
  {
   "cell_type": "code",
   "execution_count": 14,
   "id": "a806c5e4",
   "metadata": {},
   "outputs": [],
   "source": [
    "import pandas as pd\n",
    "import re"
   ]
  },
  {
   "cell_type": "code",
   "execution_count": 15,
   "id": "622b6fd3",
   "metadata": {},
   "outputs": [],
   "source": [
    "INVALID_VALUES = {'none', 'no', 'idk', 'nothing', 'n/a', '-', 'na', '', 'null'}\n",
    "\n",
    "def clean_major(text):\n",
    "    if pd.isnull(text):\n",
    "        return ''\n",
    "    text = text.lower().strip()\n",
    "    # Xoá số\n",
    "    text = re.sub(r'\\d+', '', text)\n",
    "    # Xoá ký tự đặc biệt\n",
    "    text = re.sub(r'[^\\w\\s]', '', text)\n",
    "    # Gộp khoảng trắng thừa\n",
    "    text = re.sub(r'\\s+', ' ', text).strip()\n",
    "    return text"
   ]
  },
  {
   "cell_type": "code",
   "execution_count": 16,
   "id": "80673dfb",
   "metadata": {},
   "outputs": [],
   "source": [
    "df = pd.read_csv('../datasets/RIASEC_Dataset_cleaned.csv')"
   ]
  },
  {
   "cell_type": "code",
   "execution_count": 17,
   "id": "2726e7c7",
   "metadata": {},
   "outputs": [],
   "source": [
    "df['major'] = df['major'].apply(clean_major)\n",
    "df = df[df['major'].str.contains(r'[a-zA-Z]', na=False)].reset_index(drop=True)"
   ]
  },
  {
   "cell_type": "code",
   "execution_count": 18,
   "id": "47e7029f",
   "metadata": {},
   "outputs": [
    {
     "name": "stdout",
     "output_type": "stream",
     "text": [
      "Số lượng nhãn sau khi loại bỏ: 11323\n",
      "Số dòng còn lại: 92682\n"
     ]
    }
   ],
   "source": [
    "print(\"Số lượng nhãn sau khi loại bỏ:\", df['major'].nunique())\n",
    "print(\"Số dòng còn lại:\", len(df))"
   ]
  },
  {
   "cell_type": "code",
   "execution_count": 19,
   "id": "e73d7a43",
   "metadata": {},
   "outputs": [],
   "source": [
    "df.to_csv('../datasets/RIASEC_Dataset_preprocessed.csv', index=False)"
   ]
  }
 ],
 "metadata": {
  "kernelspec": {
   "display_name": "Python 3",
   "language": "python",
   "name": "python3"
  },
  "language_info": {
   "codemirror_mode": {
    "name": "ipython",
    "version": 3
   },
   "file_extension": ".py",
   "mimetype": "text/x-python",
   "name": "python",
   "nbconvert_exporter": "python",
   "pygments_lexer": "ipython3",
   "version": "3.13.3"
  }
 },
 "nbformat": 4,
 "nbformat_minor": 5
}
