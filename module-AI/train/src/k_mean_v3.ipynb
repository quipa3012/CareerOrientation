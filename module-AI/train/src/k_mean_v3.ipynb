{
 "cells": [
  {
   "cell_type": "code",
   "execution_count": 2,
   "id": "2c7dbd8f",
   "metadata": {},
   "outputs": [],
   "source": [
    "import pandas as pd\n",
    "import matplotlib.pyplot as plt\n",
    "from sklearn.feature_extraction.text import TfidfVectorizer\n",
    "from sklearn.preprocessing import StandardScaler\n",
    "from sklearn.cluster import KMeans"
   ]
  },
  {
   "cell_type": "code",
   "execution_count": 3,
   "id": "80ec3bdb",
   "metadata": {},
   "outputs": [],
   "source": [
    "df = pd.read_csv('../datasets/RIASEC_Dataset_preprocessed.csv')\n"
   ]
  },
  {
   "cell_type": "code",
   "execution_count": 4,
   "id": "5fe94368",
   "metadata": {},
   "outputs": [],
   "source": [
    "if 'major' in df.columns:\n",
    "    major_labels = df['major']\n",
    "    df_features = df.drop(columns=['major'])\n",
    "else:\n",
    "    major_labels = None\n",
    "    df_features = df.copy()"
   ]
  },
  {
   "cell_type": "code",
   "execution_count": 5,
   "id": "1db2e50d",
   "metadata": {},
   "outputs": [],
   "source": [
    "scaler = StandardScaler()\n",
    "X_scaled = scaler.fit_transform(df_features.select_dtypes(include=['float64', 'int64']))\n"
   ]
  },
  {
   "cell_type": "code",
   "execution_count": 6,
   "id": "2f13fd55",
   "metadata": {},
   "outputs": [],
   "source": [
    "text_cols = df_features.select_dtypes(include=['object']).columns\n",
    "if len(text_cols) > 0:\n",
    "    print(f\"Đang vectorize các cột text: {list(text_cols)}\")\n",
    "    vectorizer = TfidfVectorizer(stop_words='english')\n",
    "    X_text = vectorizer.fit_transform(df_features[text_cols[0]])  # xử lý cột text đầu tiên\n",
    "    X_text_dense = X_text.toarray()\n",
    "    # Gộp dữ liệu số và dữ liệu text\n",
    "    from numpy import hstack\n",
    "    X_all = hstack([X_scaled, X_text_dense])\n",
    "else:\n",
    "    X_all = X_scaled"
   ]
  },
  {
   "cell_type": "code",
   "execution_count": 7,
   "id": "530bf11a",
   "metadata": {},
   "outputs": [
    {
     "data": {
      "image/png": "[encoded data removed]",
      "text/plain": [
       "<Figure size 800x500 with 1 Axes>"
      ]
     },
     "metadata": {},
     "output_type": "display_data"
    }
   ],
   "source": [
    "inertia = []\n",
    "k_range = range(1, 15)\n",
    "for k in k_range:\n",
    "    kmeans = KMeans(n_clusters=k, random_state=42, n_init=10)\n",
    "    kmeans.fit(X_all)\n",
    "    inertia.append(kmeans.inertia_)\n",
    "\n",
    "plt.figure(figsize=(8, 5))\n",
    "plt.plot(k_range, inertia, 'bo-', markersize=5)\n",
    "plt.xlabel('Số cụm (k)')\n",
    "plt.ylabel('Inertia')\n",
    "plt.title('Elbow Method để chọn k tối ưu')\n",
    "plt.grid(True)\n",
    "plt.show()"
   ]
  },
  {
   "cell_type": "code",
   "execution_count": 9,
   "id": "294cda3e",
   "metadata": {},
   "outputs": [
    {
     "name": "stdout",
     "output_type": "stream",
     "text": [
      "Đang phân cụm với k=12\n"
     ]
    }
   ],
   "source": [
    "optimal_k = 12  # 🚨 chỉnh tay theo elbow\n",
    "print(f\"Đang phân cụm với k={optimal_k}\")\n",
    "\n",
    "# Phân cụm với k tối ưu\n",
    "kmeans = KMeans(n_clusters=optimal_k, random_state=42, n_init=10)\n",
    "df['major_cluster'] = kmeans.fit_predict(X_all)"
   ]
  },
  {
   "cell_type": "code",
   "execution_count": 10,
   "id": "e5218acd",
   "metadata": {},
   "outputs": [],
   "source": [
    "if X_all.shape[1] == 2:\n",
    "    plt.figure(figsize=(8, 5))\n",
    "    plt.scatter(X_all[:, 0], X_all[:, 1], c=df['major_cluster'], cmap='rainbow')\n",
    "    plt.scatter(kmeans.cluster_centers_[:, 0], kmeans.cluster_centers_[:, 1],\n",
    "                color='black', marker='x', label='Cluster Centers')\n",
    "    plt.title(f'KMeans Clustering (k={optimal_k})')\n",
    "    plt.xlabel('Feature 1')\n",
    "    plt.ylabel('Feature 2')\n",
    "    plt.legend()\n",
    "    plt.show()"
   ]
  },
  {
   "cell_type": "code",
   "execution_count": 11,
   "id": "9929c7c9",
   "metadata": {},
   "outputs": [
    {
     "name": "stdout",
     "output_type": "stream",
     "text": [
      "\n",
      "--- Cluster 0 ---\n",
      "major\n",
      "psychology    1572\n",
      "english        566\n",
      "business       416\n",
      "education      303\n",
      "marketing      171\n",
      "Name: count, dtype: int64\n",
      "\n",
      "--- Cluster 1 ---\n",
      "major\n",
      "business                   677\n",
      "psychology                 668\n",
      "accounting                 273\n",
      "business administration    174\n",
      "education                  170\n",
      "Name: count, dtype: int64\n",
      "\n",
      "--- Cluster 2 ---\n",
      "major\n",
      "psychology          487\n",
      "english             267\n",
      "business            211\n",
      "engineering         117\n",
      "computer science    106\n",
      "Name: count, dtype: int64\n",
      "\n",
      "--- Cluster 3 ---\n",
      "major\n",
      "psychology           479\n",
      "engineering          477\n",
      "business             455\n",
      "civil engineering    285\n",
      "computer science     277\n",
      "Name: count, dtype: int64\n",
      "\n",
      "--- Cluster 4 ---\n",
      "major\n",
      "psychology    825\n",
      "business      658\n",
      "accounting    284\n",
      "english       207\n",
      "education     178\n",
      "Name: count, dtype: int64\n",
      "\n",
      "--- Cluster 5 ---\n",
      "major\n",
      "psychology    1948\n",
      "english        476\n",
      "biology        294\n",
      "education      241\n",
      "nursing        224\n",
      "Name: count, dtype: int64\n",
      "\n",
      "--- Cluster 6 ---\n",
      "major\n",
      "psychology    1607\n",
      "english        379\n",
      "business       336\n",
      "nursing        216\n",
      "education      190\n",
      "Name: count, dtype: int64\n",
      "\n",
      "--- Cluster 7 ---\n",
      "major\n",
      "psychology           633\n",
      "business             276\n",
      "english              201\n",
      "engineering          191\n",
      "civil engineering    188\n",
      "Name: count, dtype: int64\n",
      "\n",
      "--- Cluster 8 ---\n",
      "major\n",
      "psychology          690\n",
      "biology             419\n",
      "english             236\n",
      "computer science    211\n",
      "business            151\n",
      "Name: count, dtype: int64\n",
      "\n",
      "--- Cluster 9 ---\n",
      "major\n",
      "psychology    1777\n",
      "nursing        517\n",
      "biology        374\n",
      "business       218\n",
      "education      175\n",
      "Name: count, dtype: int64\n",
      "\n",
      "--- Cluster 10 ---\n",
      "major\n",
      "psychology     899\n",
      "biology        315\n",
      "english        235\n",
      "business       220\n",
      "engineering    211\n",
      "Name: count, dtype: int64\n",
      "\n",
      "--- Cluster 11 ---\n",
      "major\n",
      "psychology    2294\n",
      "nursing        578\n",
      "education      241\n",
      "english        155\n",
      "biology        153\n",
      "Name: count, dtype: int64\n"
     ]
    }
   ],
   "source": [
    "if major_labels is not None:\n",
    "    df['major'] = major_labels\n",
    "    for i in range(optimal_k):\n",
    "        print(f\"\\n--- Cluster {i} ---\")\n",
    "        print(df[df['major_cluster'] == i]['major'].value_counts().head(5))"
   ]
  },
  {
   "cell_type": "code",
   "execution_count": null,
   "id": "60544ef5",
   "metadata": {},
   "outputs": [],
   "source": [
    "df.to_csv('../datasets/RIASEC_Dataset_clustered_v2.csv', index=False)\n",
    "print(\"✅ Đã lưu file: ../datasets/RIASEC_Dataset_clustered_v2.csv\")"
   ]
  }
 ],
 "metadata": {
  "kernelspec": {
   "display_name": "Python (luanvan-env)",
   "language": "python",
   "name": "luanvan-env"
  },
  "language_info": {
   "codemirror_mode": {
    "name": "ipython",
    "version": 3
   },
   "file_extension": ".py",
   "mimetype": "text/x-python",
   "name": "python",
   "nbconvert_exporter": "python",
   "pygments_lexer": "ipython3",
   "version": "3.13.3"
  }
 },
 "nbformat": 4,
 "nbformat_minor": 5
}
