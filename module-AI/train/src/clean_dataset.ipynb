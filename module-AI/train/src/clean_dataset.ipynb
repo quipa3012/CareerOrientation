{
 "cells": [
  {
   "cell_type": "code",
   "execution_count": 2,
   "id": "c9745b5b",
   "metadata": {},
   "outputs": [],
   "source": [
    "import pandas as pd"
   ]
  },
  {
   "cell_type": "code",
   "execution_count": 3,
   "id": "2ea8edfd",
   "metadata": {},
   "outputs": [],
   "source": [
    "df = pd.read_csv('../datasets/RIASEC_Dataset.csv', sep=';', engine='python')"
   ]
  },
  {
   "cell_type": "code",
   "execution_count": 4,
   "id": "1f965f42",
   "metadata": {},
   "outputs": [
    {
     "name": "stdout",
     "output_type": "stream",
     "text": [
      "   R1  R2  R3  R4  R5  R6  R7  R8  I1  I2  ...  religion  orientation  race  \\\n",
      "0   3   4   3   1   1   4   1   3   5   5  ...         7            1     1   \n",
      "1   1   1   2   4   1   2   2   1   5   5  ...         7            3     4   \n",
      "2   2   1   1   1   1   1   1   1   4   1  ...         7            1     4   \n",
      "3   3   1   1   2   2   2   2   2   4   1  ...         0            1     1   \n",
      "4   4   1   1   2   1   1   1   2   5   5  ...         4            3     1   \n",
      "5   3   5   1   3   1   5   3   4   4   5  ...         2            1     5   \n",
      "6   1   4   1   4   1   4   1   2   4   4  ...         2            1     1   \n",
      "7   5   1   2   2   2   1   2   1   4   4  ...         7            3     1   \n",
      "8   1   1   1   1   1   1   1   1   2   1  ...         4            1     1   \n",
      "9   4   2   2   2   2   2   3   2   2   2  ...        10            1     1   \n",
      "\n",
      "   voted  married  familysize  uniqueNetworkLocation  country  source  \\\n",
      "0      2        1           1                      1       US       2   \n",
      "1      1        2           3                      1       US       1   \n",
      "2      2        1           1                      1       US       1   \n",
      "3      2        1           1                      1       CN       0   \n",
      "4      2        1           4                      1       PH       0   \n",
      "5      1        1           2                      1       IN       2   \n",
      "6      2        1           3                      2       US       0   \n",
      "7      2        1           0                      1       PH       0   \n",
      "8      1        1           3                      1       US       0   \n",
      "9      2        1           6                      1       MY       1   \n",
      "\n",
      "                        major  \n",
      "0                         NaN  \n",
      "1                     Nursing  \n",
      "2                         NaN  \n",
      "3                         NaN  \n",
      "4                   education  \n",
      "5                  Literature  \n",
      "6                        Math  \n",
      "7     mathematics and science  \n",
      "8  family resource management  \n",
      "9                 Counselling  \n",
      "\n",
      "[10 rows x 93 columns]\n",
      "\n",
      "Số lượng nhãn duy nhất của major: 15943\n"
     ]
    }
   ],
   "source": [
    "print(df.head(10))\n",
    "print(\"\\nSố lượng nhãn duy nhất của major:\", df['major'].nunique())"
   ]
  },
  {
   "cell_type": "code",
   "execution_count": 5,
   "id": "2537cf18",
   "metadata": {},
   "outputs": [
    {
     "name": "stdout",
     "output_type": "stream",
     "text": [
      "Index(['R1', 'R2', 'R3', 'R4', 'R5', 'R6', 'R7', 'R8', 'I1', 'I2', 'I3', 'I4',\n",
      "       'I5', 'I6', 'I7', 'I8', 'A1', 'A2', 'A3', 'A4', 'A5', 'A6', 'A7', 'A8',\n",
      "       'S1', 'S2', 'S3', 'S4', 'S5', 'S6', 'S7', 'S8', 'E1', 'E2', 'E3', 'E4',\n",
      "       'E5', 'E6', 'E7', 'E8', 'C1', 'C2', 'C3', 'C4', 'C5', 'C6', 'C7', 'C8',\n",
      "       'introelapse', 'testelapse', 'surveyelapse', 'TIPI1', 'TIPI2', 'TIPI3',\n",
      "       'TIPI4', 'TIPI5', 'TIPI6', 'TIPI7', 'TIPI8', 'TIPI9', 'TIPI10', 'VCL1',\n",
      "       'VCL2', 'VCL3', 'VCL4', 'VCL5', 'VCL6', 'VCL7', 'VCL8', 'VCL9', 'VCL10',\n",
      "       'VCL11', 'VCL12', 'VCL13', 'VCL14', 'VCL15', 'VCL16', 'education',\n",
      "       'urban', 'gender', 'engnat', 'age', 'hand', 'religion', 'orientation',\n",
      "       'race', 'voted', 'married', 'familysize', 'uniqueNetworkLocation',\n",
      "       'country', 'source', 'major'],\n",
      "      dtype='object')\n"
     ]
    }
   ],
   "source": [
    "print(df.columns)"
   ]
  },
  {
   "cell_type": "code",
   "execution_count": 6,
   "id": "3563fe8a",
   "metadata": {},
   "outputs": [
    {
     "name": "stdout",
     "output_type": "stream",
     "text": [
      "Shape: (145828, 93)\n"
     ]
    }
   ],
   "source": [
    "print(\"Shape:\", df.shape)"
   ]
  },
  {
   "cell_type": "code",
   "execution_count": 7,
   "id": "d6972abd",
   "metadata": {},
   "outputs": [
    {
     "name": "stdout",
     "output_type": "stream",
     "text": [
      "\n",
      "Null counts:\n",
      "R1                           0\n",
      "R2                           0\n",
      "R3                           0\n",
      "R4                           0\n",
      "R5                           0\n",
      "                         ...  \n",
      "familysize                   0\n",
      "uniqueNetworkLocation        0\n",
      "country                     12\n",
      "source                       0\n",
      "major                    52874\n",
      "Length: 93, dtype: int64\n"
     ]
    }
   ],
   "source": [
    "print(\"\\nNull counts:\")\n",
    "print(df.isnull().sum())"
   ]
  },
  {
   "cell_type": "code",
   "execution_count": 8,
   "id": "aa7b915b",
   "metadata": {},
   "outputs": [
    {
     "name": "stdout",
     "output_type": "stream",
     "text": [
      "R1                       0\n",
      "R2                       0\n",
      "R3                       0\n",
      "R4                       0\n",
      "R5                       0\n",
      "                        ..\n",
      "familysize               0\n",
      "uniqueNetworkLocation    0\n",
      "country                  0\n",
      "source                   0\n",
      "major                    0\n",
      "Length: 93, dtype: int64\n",
      "Shape: (92948, 93)\n"
     ]
    }
   ],
   "source": [
    "df = df.dropna()\n",
    "print(df.isnull().sum())\n",
    "print(\"Shape:\", df.shape)"
   ]
  },
  {
   "cell_type": "code",
   "execution_count": 9,
   "id": "6494dff3",
   "metadata": {},
   "outputs": [],
   "source": [
    "df = df[df['age'] >= 18]\n",
    "\n",
    "df = df[df['gender'].isin([1, 2, 3])]\n",
    "df = df[df['urban'].isin([1, 2, 3])]\n",
    "\n",
    "df = df.reset_index(drop=True)\n"
   ]
  },
  {
   "cell_type": "code",
   "execution_count": 10,
   "id": "6e49d13b",
   "metadata": {},
   "outputs": [],
   "source": [
    "df.columns = df.columns.str.replace(r'(_\\d+)$', '', regex=True)\n",
    "\n",
    "columns_to_keep = []\n",
    "\n",
    "for prefix in ['R', 'I', 'A', 'S', 'E', 'C']:\n",
    "    columns_to_keep.extend([f'{prefix}{i}' for i in range(1, 9)])\n",
    "\n",
    "columns_to_keep.extend([f'TIPI{i}' for i in range(1, 11)])\n",
    "columns_to_keep.extend([ 'gender','urban','major']) \n",
    "\n",
    "df_cleaned = df[columns_to_keep].copy()\n",
    "\n",
    "\n",
    "df_cleaned.to_csv('../datasets/RIASEC_Dataset_cleaned.csv', index=False)"
   ]
  }
 ],
 "metadata": {
  "kernelspec": {
   "display_name": ".venv",
   "language": "python",
   "name": "python3"
  },
  "language_info": {
   "codemirror_mode": {
    "name": "ipython",
    "version": 3
   },
   "file_extension": ".py",
   "mimetype": "text/x-python",
   "name": "python",
   "nbconvert_exporter": "python",
   "pygments_lexer": "ipython3",
   "version": "3.13.3"
  }
 },
 "nbformat": 4,
 "nbformat_minor": 5
}
